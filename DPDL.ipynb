{
  "nbformat": 4,
  "nbformat_minor": 0,
  "metadata": {
    "colab": {
      "name": "DPDL.ipynb",
      "provenance": [],
      "collapsed_sections": [],
      "toc_visible": true,
      "mount_file_id": "1glR2P2_rge2-awVkASojcxzq1j3yywiL",
      "authorship_tag": "ABX9TyO7vJqDXMrhKJEuk2FJqDnI",
      "include_colab_link": true
    },
    "kernelspec": {
      "name": "python3",
      "display_name": "Python 3"
    },
    "accelerator": "GPU"
  },
  "cells": [
    {
      "cell_type": "markdown",
      "metadata": {
        "id": "view-in-github",
        "colab_type": "text"
      },
      "source": [
        "<a href=\"https://colab.research.google.com/github/bodabhavani/phishing-websites/blob/master/DPDL.ipynb\" target=\"_parent\"><img src=\"https://colab.research.google.com/assets/colab-badge.svg\" alt=\"Open In Colab\"/></a>"
      ]
    },
    {
      "cell_type": "code",
      "metadata": {
        "id": "O7EVqZpjIm47",
        "colab_type": "code",
        "colab": {
          "base_uri": "https://localhost:8080/",
          "height": 55
        },
        "outputId": "94ad4f51-e982-4add-9a24-0ce6573fa9f3"
      },
      "source": [
        "from google.colab import drive\n",
        "drive.mount('/content/drive')"
      ],
      "execution_count": null,
      "outputs": [
        {
          "output_type": "stream",
          "text": [
            "Drive already mounted at /content/drive; to attempt to forcibly remount, call drive.mount(\"/content/drive\", force_remount=True).\n"
          ],
          "name": "stdout"
        }
      ]
    },
    {
      "cell_type": "code",
      "metadata": {
        "id": "OcuqQqMsIns8",
        "colab_type": "code",
        "colab": {
          "base_uri": "https://localhost:8080/",
          "height": 35
        },
        "outputId": "f6b646ff-b3a8-4fb1-d26a-656c4f74b448"
      },
      "source": [
        "\n",
        "import numpy as np\n",
        "import pandas as pd\n",
        "import matplotlib.pyplot as plt\n",
        "from string import printable\n",
        "from keras.preprocessing import sequence\n",
        "from sklearn import model_selection\n",
        "from keras import regularizers\n",
        "from keras.layers import Input, LSTM, Embedding, Conv1D, MaxPooling1D, ELU, concatenate, BatchNormalization\n",
        "from keras.layers.core import Dropout,Dense, Lambda\n",
        "from keras.models import Model\n",
        "from keras.optimizers import Adam\n",
        "from keras import backend as K"
      ],
      "execution_count": null,
      "outputs": [
        {
          "output_type": "stream",
          "text": [
            "Using TensorFlow backend.\n"
          ],
          "name": "stderr"
        }
      ]
    },
    {
      "cell_type": "code",
      "metadata": {
        "id": "UZQUgyHzIszZ",
        "colab_type": "code",
        "colab": {}
      },
      "source": [
        "df = pd.read_csv(\"/content/drive/My Drive/url_data.csv\")"
      ],
      "execution_count": null,
      "outputs": []
    },
    {
      "cell_type": "code",
      "metadata": {
        "id": "bCcttT6aI0pH",
        "colab_type": "code",
        "colab": {
          "base_uri": "https://localhost:8080/",
          "height": 206
        },
        "outputId": "a42397b0-ead8-47d6-94e0-5208c956a313"
      },
      "source": [
        "df.head(5)"
      ],
      "execution_count": null,
      "outputs": [
        {
          "output_type": "execute_result",
          "data": {
            "text/html": [
              "<div>\n",
              "<style scoped>\n",
              "    .dataframe tbody tr th:only-of-type {\n",
              "        vertical-align: middle;\n",
              "    }\n",
              "\n",
              "    .dataframe tbody tr th {\n",
              "        vertical-align: top;\n",
              "    }\n",
              "\n",
              "    .dataframe thead th {\n",
              "        text-align: right;\n",
              "    }\n",
              "</style>\n",
              "<table border=\"1\" class=\"dataframe\">\n",
              "  <thead>\n",
              "    <tr style=\"text-align: right;\">\n",
              "      <th></th>\n",
              "      <th>url</th>\n",
              "      <th>isMalicious</th>\n",
              "    </tr>\n",
              "  </thead>\n",
              "  <tbody>\n",
              "    <tr>\n",
              "      <th>0</th>\n",
              "      <td>imaging-resource.com/PRODS/olympus-e-m1-ii/oly...</td>\n",
              "      <td>0</td>\n",
              "    </tr>\n",
              "    <tr>\n",
              "      <th>1</th>\n",
              "      <td>gosugamers.net/lol/streams</td>\n",
              "      <td>0</td>\n",
              "    </tr>\n",
              "    <tr>\n",
              "      <th>2</th>\n",
              "      <td>thingiverse.com/corkyzett/collections/intlwome...</td>\n",
              "      <td>0</td>\n",
              "    </tr>\n",
              "    <tr>\n",
              "      <th>3</th>\n",
              "      <td>bausch.com/our-products/contact-lens-care/spec...</td>\n",
              "      <td>0</td>\n",
              "    </tr>\n",
              "    <tr>\n",
              "      <th>4</th>\n",
              "      <td>w88mobile.org/game/5151.html</td>\n",
              "      <td>0</td>\n",
              "    </tr>\n",
              "  </tbody>\n",
              "</table>\n",
              "</div>"
            ],
            "text/plain": [
              "                                                 url  isMalicious\n",
              "0  imaging-resource.com/PRODS/olympus-e-m1-ii/oly...            0\n",
              "1                         gosugamers.net/lol/streams            0\n",
              "2  thingiverse.com/corkyzett/collections/intlwome...            0\n",
              "3  bausch.com/our-products/contact-lens-care/spec...            0\n",
              "4                       w88mobile.org/game/5151.html            0"
            ]
          },
          "metadata": {
            "tags": []
          },
          "execution_count": 4
        }
      ]
    },
    {
      "cell_type": "code",
      "metadata": {
        "id": "0h9FYgKiI47R",
        "colab_type": "code",
        "colab": {}
      },
      "source": [
        "url_int_tokens = [[printable.index(x) + 1 for x in url if x in printable] for url in df.url]\n",
        "\n"
      ],
      "execution_count": null,
      "outputs": []
    },
    {
      "cell_type": "code",
      "metadata": {
        "id": "sF3DJetIJHMA",
        "colab_type": "code",
        "colab": {
          "base_uri": "https://localhost:8080/",
          "height": 35
        },
        "outputId": "8a8af09d-3d29-4de2-9a3e-446a5b25658d"
      },
      "source": [
        "type(url_int_tokens)"
      ],
      "execution_count": null,
      "outputs": [
        {
          "output_type": "execute_result",
          "data": {
            "text/plain": [
              "list"
            ]
          },
          "metadata": {
            "tags": []
          },
          "execution_count": 6
        }
      ]
    },
    {
      "cell_type": "code",
      "metadata": {
        "id": "nO4PEM-qJ3gx",
        "colab_type": "code",
        "colab": {
          "base_uri": "https://localhost:8080/",
          "height": 1000
        },
        "outputId": "fb0fb595-613a-4ea0-81cc-6babe854524f"
      },
      "source": [
        "url_int_tokens[0]"
      ],
      "execution_count": null,
      "outputs": [
        {
          "output_type": "execute_result",
          "data": {
            "text/plain": [
              "[19,\n",
              " 23,\n",
              " 11,\n",
              " 17,\n",
              " 19,\n",
              " 24,\n",
              " 17,\n",
              " 75,\n",
              " 28,\n",
              " 15,\n",
              " 29,\n",
              " 25,\n",
              " 31,\n",
              " 28,\n",
              " 13,\n",
              " 15,\n",
              " 76,\n",
              " 13,\n",
              " 25,\n",
              " 23,\n",
              " 77,\n",
              " 52,\n",
              " 54,\n",
              " 51,\n",
              " 40,\n",
              " 55,\n",
              " 77,\n",
              " 25,\n",
              " 22,\n",
              " 35,\n",
              " 23,\n",
              " 26,\n",
              " 31,\n",
              " 29,\n",
              " 75,\n",
              " 15,\n",
              " 75,\n",
              " 23,\n",
              " 2,\n",
              " 75,\n",
              " 19,\n",
              " 19,\n",
              " 77,\n",
              " 25,\n",
              " 22,\n",
              " 35,\n",
              " 23,\n",
              " 26,\n",
              " 31,\n",
              " 29,\n",
              " 75,\n",
              " 15,\n",
              " 75,\n",
              " 23,\n",
              " 2,\n",
              " 75,\n",
              " 19,\n",
              " 19,\n",
              " 37,\n",
              " 76,\n",
              " 44,\n",
              " 56,\n",
              " 49]"
            ]
          },
          "metadata": {
            "tags": []
          },
          "execution_count": 7
        }
      ]
    },
    {
      "cell_type": "code",
      "metadata": {
        "id": "qV5IAKaxJjy9",
        "colab_type": "code",
        "colab": {}
      },
      "source": [
        "max_len=200"
      ],
      "execution_count": null,
      "outputs": []
    },
    {
      "cell_type": "code",
      "metadata": {
        "id": "1crYkd_AJons",
        "colab_type": "code",
        "colab": {}
      },
      "source": [
        "\n",
        "\n",
        "X = sequence.pad_sequences(url_int_tokens, maxlen=max_len)"
      ],
      "execution_count": null,
      "outputs": []
    },
    {
      "cell_type": "code",
      "metadata": {
        "id": "Swgo6qx7KBC6",
        "colab_type": "code",
        "colab": {
          "base_uri": "https://localhost:8080/",
          "height": 35
        },
        "outputId": "83583871-a84d-4212-b0d4-dc32bbbdb9e1"
      },
      "source": [
        "type(X)\n",
        "X.shape\n"
      ],
      "execution_count": null,
      "outputs": [
        {
          "output_type": "execute_result",
          "data": {
            "text/plain": [
              "(194797, 200)"
            ]
          },
          "metadata": {
            "tags": []
          },
          "execution_count": 10
        }
      ]
    },
    {
      "cell_type": "code",
      "metadata": {
        "id": "twWFOp9LKH1t",
        "colab_type": "code",
        "colab": {
          "base_uri": "https://localhost:8080/",
          "height": 1000
        },
        "outputId": "0bcdb16d-80c7-41db-a53a-07c47b28bf67"
      },
      "source": [
        "X[0:5]"
      ],
      "execution_count": null,
      "outputs": [
        {
          "output_type": "execute_result",
          "data": {
            "text/plain": [
              "array([[ 0,  0,  0,  0,  0,  0,  0,  0,  0,  0,  0,  0,  0,  0,  0,  0,\n",
              "         0,  0,  0,  0,  0,  0,  0,  0,  0,  0,  0,  0,  0,  0,  0,  0,\n",
              "         0,  0,  0,  0,  0,  0,  0,  0,  0,  0,  0,  0,  0,  0,  0,  0,\n",
              "         0,  0,  0,  0,  0,  0,  0,  0,  0,  0,  0,  0,  0,  0,  0,  0,\n",
              "         0,  0,  0,  0,  0,  0,  0,  0,  0,  0,  0,  0,  0,  0,  0,  0,\n",
              "         0,  0,  0,  0,  0,  0,  0,  0,  0,  0,  0,  0,  0,  0,  0,  0,\n",
              "         0,  0,  0,  0,  0,  0,  0,  0,  0,  0,  0,  0,  0,  0,  0,  0,\n",
              "         0,  0,  0,  0,  0,  0,  0,  0,  0,  0,  0,  0,  0,  0,  0,  0,\n",
              "         0,  0,  0,  0,  0,  0,  0,  0,  0, 19, 23, 11, 17, 19, 24, 17,\n",
              "        75, 28, 15, 29, 25, 31, 28, 13, 15, 76, 13, 25, 23, 77, 52, 54,\n",
              "        51, 40, 55, 77, 25, 22, 35, 23, 26, 31, 29, 75, 15, 75, 23,  2,\n",
              "        75, 19, 19, 77, 25, 22, 35, 23, 26, 31, 29, 75, 15, 75, 23,  2,\n",
              "        75, 19, 19, 37, 76, 44, 56, 49],\n",
              "       [ 0,  0,  0,  0,  0,  0,  0,  0,  0,  0,  0,  0,  0,  0,  0,  0,\n",
              "         0,  0,  0,  0,  0,  0,  0,  0,  0,  0,  0,  0,  0,  0,  0,  0,\n",
              "         0,  0,  0,  0,  0,  0,  0,  0,  0,  0,  0,  0,  0,  0,  0,  0,\n",
              "         0,  0,  0,  0,  0,  0,  0,  0,  0,  0,  0,  0,  0,  0,  0,  0,\n",
              "         0,  0,  0,  0,  0,  0,  0,  0,  0,  0,  0,  0,  0,  0,  0,  0,\n",
              "         0,  0,  0,  0,  0,  0,  0,  0,  0,  0,  0,  0,  0,  0,  0,  0,\n",
              "         0,  0,  0,  0,  0,  0,  0,  0,  0,  0,  0,  0,  0,  0,  0,  0,\n",
              "         0,  0,  0,  0,  0,  0,  0,  0,  0,  0,  0,  0,  0,  0,  0,  0,\n",
              "         0,  0,  0,  0,  0,  0,  0,  0,  0,  0,  0,  0,  0,  0,  0,  0,\n",
              "         0,  0,  0,  0,  0,  0,  0,  0,  0,  0,  0,  0,  0,  0,  0,  0,\n",
              "         0,  0,  0,  0,  0,  0,  0,  0,  0,  0,  0,  0,  0,  0, 17, 25,\n",
              "        29, 31, 17, 11, 23, 15, 28, 29, 76, 24, 15, 30, 77, 22, 25, 22,\n",
              "        77, 29, 30, 28, 15, 11, 23, 29],\n",
              "       [ 0,  0,  0,  0,  0,  0,  0,  0,  0,  0,  0,  0,  0,  0,  0,  0,\n",
              "         0,  0,  0,  0,  0,  0,  0,  0,  0,  0,  0,  0,  0,  0,  0,  0,\n",
              "         0,  0,  0,  0,  0,  0,  0,  0,  0,  0,  0,  0,  0,  0,  0,  0,\n",
              "         0,  0,  0,  0,  0,  0,  0,  0,  0,  0,  0,  0,  0,  0,  0,  0,\n",
              "         0,  0,  0,  0,  0,  0,  0,  0,  0,  0,  0,  0,  0,  0,  0,  0,\n",
              "         0,  0,  0,  0,  0,  0,  0,  0,  0,  0,  0,  0,  0,  0,  0,  0,\n",
              "         0,  0,  0,  0,  0,  0,  0,  0,  0,  0,  0,  0,  0,  0,  0,  0,\n",
              "         0,  0,  0,  0,  0,  0,  0,  0,  0,  0,  0,  0,  0,  0,  0,  0,\n",
              "         0,  0,  0,  0,  0,  0,  0,  0,  0,  0,  0,  0,  0,  0,  0,  0,\n",
              "         0,  0,  0,  0,  0, 30, 18, 19, 24, 17, 19, 32, 15, 28, 29, 15,\n",
              "        76, 13, 25, 23, 77, 13, 25, 28, 21, 35, 36, 15, 30, 30, 77, 13,\n",
              "        25, 22, 22, 15, 13, 30, 19, 25, 24, 29, 77, 19, 24, 30, 22, 33,\n",
              "        25, 23, 15, 24, 29, 14, 11, 35],\n",
              "       [ 0,  0,  0,  0,  0,  0,  0,  0,  0,  0,  0,  0,  0,  0,  0,  0,\n",
              "         0,  0,  0,  0,  0,  0,  0,  0,  0,  0,  0,  0,  0,  0,  0,  0,\n",
              "         0,  0,  0,  0,  0,  0,  0,  0,  0,  0,  0,  0,  0,  0,  0,  0,\n",
              "         0,  0,  0,  0,  0,  0,  0,  0,  0,  0,  0,  0,  0,  0,  0,  0,\n",
              "         0,  0,  0,  0,  0,  0,  0,  0,  0,  0,  0,  0,  0,  0,  0,  0,\n",
              "         0,  0,  0,  0,  0,  0,  0,  0,  0,  0,  0,  0,  0,  0,  0,  0,\n",
              "         0,  0,  0,  0,  0,  0,  0,  0,  0,  0,  0,  0,  0,  0,  0,  0,\n",
              "         0,  0,  0,  0,  0,  0,  0,  0,  0,  0,  0,  0,  0,  0,  0,  0,\n",
              "         0,  0, 12, 11, 31, 29, 13, 18, 76, 13, 25, 23, 77, 25, 31, 28,\n",
              "        75, 26, 28, 25, 14, 31, 13, 30, 29, 77, 13, 25, 24, 30, 11, 13,\n",
              "        30, 75, 22, 15, 24, 29, 75, 13, 11, 28, 15, 77, 29, 26, 15, 13,\n",
              "        19, 11, 22, 30, 35, 75, 22, 15, 24, 29, 75, 13, 11, 28, 15, 75,\n",
              "        26, 28, 25, 14, 31, 13, 30, 29],\n",
              "       [ 0,  0,  0,  0,  0,  0,  0,  0,  0,  0,  0,  0,  0,  0,  0,  0,\n",
              "         0,  0,  0,  0,  0,  0,  0,  0,  0,  0,  0,  0,  0,  0,  0,  0,\n",
              "         0,  0,  0,  0,  0,  0,  0,  0,  0,  0,  0,  0,  0,  0,  0,  0,\n",
              "         0,  0,  0,  0,  0,  0,  0,  0,  0,  0,  0,  0,  0,  0,  0,  0,\n",
              "         0,  0,  0,  0,  0,  0,  0,  0,  0,  0,  0,  0,  0,  0,  0,  0,\n",
              "         0,  0,  0,  0,  0,  0,  0,  0,  0,  0,  0,  0,  0,  0,  0,  0,\n",
              "         0,  0,  0,  0,  0,  0,  0,  0,  0,  0,  0,  0,  0,  0,  0,  0,\n",
              "         0,  0,  0,  0,  0,  0,  0,  0,  0,  0,  0,  0,  0,  0,  0,  0,\n",
              "         0,  0,  0,  0,  0,  0,  0,  0,  0,  0,  0,  0,  0,  0,  0,  0,\n",
              "         0,  0,  0,  0,  0,  0,  0,  0,  0,  0,  0,  0,  0,  0,  0,  0,\n",
              "         0,  0,  0,  0,  0,  0,  0,  0,  0,  0,  0,  0, 33,  9,  9, 23,\n",
              "        25, 12, 19, 22, 15, 76, 25, 28, 17, 77, 17, 11, 23, 15, 77,  6,\n",
              "         2,  6,  2, 76, 18, 30, 23, 22]], dtype=int32)"
            ]
          },
          "metadata": {
            "tags": []
          },
          "execution_count": 11
        }
      ]
    },
    {
      "cell_type": "code",
      "metadata": {
        "id": "HHeg-ZJYJv67",
        "colab_type": "code",
        "colab": {}
      },
      "source": [
        "\n",
        "target = np.array(df.isMalicious)\n"
      ],
      "execution_count": null,
      "outputs": []
    },
    {
      "cell_type": "code",
      "metadata": {
        "id": "x1S07s77Kb9g",
        "colab_type": "code",
        "colab": {
          "base_uri": "https://localhost:8080/",
          "height": 35
        },
        "outputId": "12fb4c0d-729c-4630-d7bb-32ef7cb9823e"
      },
      "source": [
        "type(target)"
      ],
      "execution_count": null,
      "outputs": [
        {
          "output_type": "execute_result",
          "data": {
            "text/plain": [
              "numpy.ndarray"
            ]
          },
          "metadata": {
            "tags": []
          },
          "execution_count": 13
        }
      ]
    },
    {
      "cell_type": "code",
      "metadata": {
        "id": "VRjIAx0xKEUn",
        "colab_type": "code",
        "colab": {
          "base_uri": "https://localhost:8080/",
          "height": 35
        },
        "outputId": "eb2fa996-4bb2-48d8-aad9-8e37081ec413"
      },
      "source": [
        "\n",
        "print('Matrix dimensions of X: ', X.shape, 'Vector dimension of target: ', target.shape)"
      ],
      "execution_count": null,
      "outputs": [
        {
          "output_type": "stream",
          "text": [
            "Matrix dimensions of X:  (194797, 200) Vector dimension of target:  (194797,)\n"
          ],
          "name": "stdout"
        }
      ]
    },
    {
      "cell_type": "code",
      "metadata": {
        "id": "eLPYkY7QKHZ6",
        "colab_type": "code",
        "colab": {}
      },
      "source": [
        "X_train, X_test, target_train, target_test = model_selection.train_test_split(X, target, test_size=0.25)"
      ],
      "execution_count": null,
      "outputs": []
    },
    {
      "cell_type": "code",
      "metadata": {
        "id": "huXfitUxKwzS",
        "colab_type": "code",
        "colab": {
          "base_uri": "https://localhost:8080/",
          "height": 237
        },
        "outputId": "89e44e6b-d3b3-4d98-a708-46f2f2c18c3f"
      },
      "source": [
        "  X_train[0]"
      ],
      "execution_count": null,
      "outputs": [
        {
          "output_type": "execute_result",
          "data": {
            "text/plain": [
              "array([ 0,  0,  0,  0,  0,  0,  0,  0,  0,  0,  0,  0,  0,  0,  0,  0,  0,\n",
              "        0,  0,  0,  0,  0,  0,  0,  0,  0,  0,  0,  0,  0,  0,  0,  0,  0,\n",
              "        0,  0,  0,  0,  0,  0,  0,  0,  0,  0,  0,  0,  0,  0,  0,  0,  0,\n",
              "        0,  0,  0,  0,  0,  0,  0,  0,  0,  0,  0,  0,  0,  0,  0,  0,  0,\n",
              "        0,  0,  0,  0,  0,  0,  0,  0,  0,  0,  0,  0,  0,  0,  0,  0,  0,\n",
              "        0,  0,  0,  0,  0,  0,  0,  0,  0,  0,  0,  0,  0,  0,  0,  0,  0,\n",
              "        0,  0,  0,  0,  0,  0,  0,  0,  0,  0,  0,  0,  0,  0,  0,  0,  0,\n",
              "        0,  0,  0,  0,  0,  0,  0,  0,  0,  0,  0,  0,  0,  0,  0,  0,  0,\n",
              "        0,  0,  0,  0,  0,  0,  0,  0,  0,  0,  0,  0,  0,  0,  0,  0,  0,\n",
              "        0,  0,  0,  0,  0,  0,  0,  0,  0,  0,  0,  0,  0,  0, 29, 15, 24,\n",
              "       14, 25, 31, 30, 13, 11, 28, 14, 29, 76, 13, 25, 23, 77, 20, 25, 19,\n",
              "       24, 77, 14, 19, 29, 30, 28, 19, 12, 31, 30, 25, 28], dtype=int32)"
            ]
          },
          "metadata": {
            "tags": []
          },
          "execution_count": 16
        }
      ]
    },
    {
      "cell_type": "code",
      "metadata": {
        "id": "KFFO-gmlKisD",
        "colab_type": "code",
        "colab": {}
      },
      "source": [
        "def lstm_model():\n",
        "    input_layer = Input(shape=(max_len,), dtype='int32', name='main_input')\n",
        "    emb = Embedding(input_dim=100, output_dim=512, input_length=max_len)(input_layer) \n",
        "    lstm = LSTM(32)(emb)\n",
        "    lstm = Dropout(0.5)(lstm)\n",
        "    output = Dense(1, activation='sigmoid', name='output')(lstm)\n",
        "    model_lstm = Model(input=[input_layer], output=[output])\n",
        "    adam = Adam(lr=1e-4, beta_1=0.9, beta_2=0.999, epsilon=1e-08, decay=0.0)\n",
        "    model_lstm.compile(optimizer=adam, loss='binary_crossentropy', metrics=['accuracy'])\n",
        "    return model_lstm"
      ],
      "execution_count": null,
      "outputs": []
    },
    {
      "cell_type": "code",
      "metadata": {
        "id": "AB0KTP2i1Hci",
        "colab_type": "code",
        "colab": {
          "base_uri": "https://localhost:8080/",
          "height": 533
        },
        "outputId": "91016dda-dcfa-4516-e62a-e24ea91f8862"
      },
      "source": [
        "epochs = 10\n",
        "batch_size = 1000\n",
        "model1 = lstm_model()\n",
        "history = model1.fit(X_train,target_train,validation_split=0.33,epochs = epochs,batch_size = batch_size)\n",
        "loss, acc1 = model1.evaluate(X_test,target_test,verbose = 1)\n",
        "print(history.history.keys())\n"
      ],
      "execution_count": null,
      "outputs": [
        {
          "output_type": "stream",
          "text": [
            "/usr/local/lib/python3.6/dist-packages/ipykernel_launcher.py:7: UserWarning: Update your `Model` call to the Keras 2 API: `Model(inputs=[<tf.Tenso..., outputs=[<tf.Tenso...)`\n",
            "  import sys\n",
            "/usr/local/lib/python3.6/dist-packages/tensorflow/python/framework/indexed_slices.py:434: UserWarning: Converting sparse IndexedSlices to a dense Tensor of unknown shape. This may consume a large amount of memory.\n",
            "  \"Converting sparse IndexedSlices to a dense Tensor of unknown shape. \"\n"
          ],
          "name": "stderr"
        },
        {
          "output_type": "stream",
          "text": [
            "Train on 97884 samples, validate on 48213 samples\n",
            "Epoch 1/10\n",
            "97884/97884 [==============================] - 61s 624us/step - loss: 0.6586 - accuracy: 0.6882 - val_loss: 0.5994 - val_accuracy: 0.7274\n",
            "Epoch 2/10\n",
            "97884/97884 [==============================] - 57s 587us/step - loss: 0.5370 - accuracy: 0.7446 - val_loss: 0.4880 - val_accuracy: 0.7685\n",
            "Epoch 3/10\n",
            "97884/97884 [==============================] - 57s 584us/step - loss: 0.4640 - accuracy: 0.7852 - val_loss: 0.4199 - val_accuracy: 0.8082\n",
            "Epoch 4/10\n",
            "97884/97884 [==============================] - 57s 586us/step - loss: 0.4156 - accuracy: 0.8164 - val_loss: 0.3937 - val_accuracy: 0.8257\n",
            "Epoch 5/10\n",
            "97884/97884 [==============================] - 58s 596us/step - loss: 0.3981 - accuracy: 0.8265 - val_loss: 0.3823 - val_accuracy: 0.8320\n",
            "Epoch 6/10\n",
            "97884/97884 [==============================] - 58s 590us/step - loss: 0.3868 - accuracy: 0.8338 - val_loss: 0.3722 - val_accuracy: 0.8372\n",
            "Epoch 7/10\n",
            "97884/97884 [==============================] - 58s 591us/step - loss: 0.3779 - accuracy: 0.8384 - val_loss: 0.3649 - val_accuracy: 0.8406\n",
            "Epoch 8/10\n",
            "97884/97884 [==============================] - 58s 590us/step - loss: 0.3701 - accuracy: 0.8413 - val_loss: 0.3594 - val_accuracy: 0.8434\n",
            "Epoch 9/10\n",
            "97884/97884 [==============================] - 57s 586us/step - loss: 0.3648 - accuracy: 0.8441 - val_loss: 0.3526 - val_accuracy: 0.8469\n",
            "Epoch 10/10\n",
            "97884/97884 [==============================] - 58s 591us/step - loss: 0.3583 - accuracy: 0.8480 - val_loss: 0.3469 - val_accuracy: 0.8492\n",
            "48700/48700 [==============================] - 57s 1ms/step\n",
            "dict_keys(['val_loss', 'val_accuracy', 'loss', 'accuracy'])\n"
          ],
          "name": "stdout"
        }
      ]
    },
    {
      "cell_type": "code",
      "metadata": {
        "id": "v5VK4LT_Px_M",
        "colab_type": "code",
        "colab": {
          "base_uri": "https://localhost:8080/",
          "height": 295
        },
        "outputId": "b8d3c0d3-9f67-4a2f-b0d6-92f430eeb38c"
      },
      "source": [
        "plt.plot(history.history['accuracy'])\n",
        "plt.plot(history.history['val_accuracy'])\n",
        "plt.title('lstm model accuracy')\n",
        "plt.xlabel('epoch')\n",
        "plt.ylabel('accuracy')\n",
        "plt.legend(['train', 'test'], loc='upper left')\n",
        "plt.show()\n"
      ],
      "execution_count": null,
      "outputs": [
        {
          "output_type": "display_data",
          "data": {
            "image/png": "[encoded data removed]",
            "text/plain": [
              "<Figure size 432x288 with 1 Axes>"
            ]
          },
          "metadata": {
            "tags": [],
            "needs_background": "light"
          }
        }
      ]
    },
    {
      "cell_type": "code",
      "metadata": {
        "id": "G4y8M6MSSC9f",
        "colab_type": "code",
        "colab": {
          "base_uri": "https://localhost:8080/",
          "height": 295
        },
        "outputId": "cb6df716-6dd9-41a7-d5df-b975d6df0b18"
      },
      "source": [
        "plt.plot(history.history['loss'])\n",
        "plt.plot(history.history['val_loss'])\n",
        "plt.title('lstm model loss')\n",
        "plt.ylabel('loss')\n",
        "plt.xlabel('epoch')\n",
        "plt.legend(['train', 'test'], loc='upper left')\n",
        "plt.show()"
      ],
      "execution_count": null,
      "outputs": [
        {
          "output_type": "display_data",
          "data": {
            "image/png": "[encoded data removed]",
            "text/plain": [
              "<Figure size 432x288 with 1 Axes>"
            ]
          },
          "metadata": {
            "tags": [],
            "needs_background": "light"
          }
        }
      ]
    },
    {
      "cell_type": "code",
      "metadata": {
        "id": "W6WJY2OGP0Y4",
        "colab_type": "code",
        "colab": {
          "base_uri": "https://localhost:8080/",
          "height": 403
        },
        "outputId": "a15fdf46-a863-4b5d-851d-35a721447b5c"
      },
      "source": [
        "model1.summary()\n",
        "print('\\nFinal Accuracy', acc1, '\\n')\n"
      ],
      "execution_count": null,
      "outputs": [
        {
          "output_type": "stream",
          "text": [
            "Model: \"model_1\"\n",
            "_________________________________________________________________\n",
            "Layer (type)                 Output Shape              Param #   \n",
            "=================================================================\n",
            "main_input (InputLayer)      (None, 200)               0         \n",
            "_________________________________________________________________\n",
            "embedding_1 (Embedding)      (None, 200, 512)          51200     \n",
            "_________________________________________________________________\n",
            "lstm_1 (LSTM)                (None, 32)                69760     \n",
            "_________________________________________________________________\n",
            "dropout_1 (Dropout)          (None, 32)                0         \n",
            "_________________________________________________________________\n",
            "output (Dense)               (None, 1)                 33        \n",
            "=================================================================\n",
            "Total params: 120,993\n",
            "Trainable params: 120,993\n",
            "Non-trainable params: 0\n",
            "_________________________________________________________________\n",
            "\n",
            "Final Accuracy 0.850862443447113 \n",
            "\n"
          ],
          "name": "stdout"
        }
      ]
    },
    {
      "cell_type": "code",
      "metadata": {
        "id": "B9kJwuXc8UoT",
        "colab_type": "code",
        "colab": {}
      },
      "source": [
        "def conv_lstm():\n",
        "  input_layer = Input(shape = (max_len,),dtype = 'int32', name = 'input')\n",
        "  emb = Embedding(input_dim = 100,output_dim = 512, input_length = 200)(input_layer)\n",
        "  emb = Dropout(0.25)(emb)\n",
        "  conv = Conv1D(kernel_size = 5,filters = 256,border_mode = 'same')(emb)\n",
        "  conv = ELU()(conv)\n",
        "  conv = MaxPooling1D(pool_size = 4)(conv)\n",
        "  conv = Dropout(0.5)(conv)\n",
        "  lstm = LSTM(64, activation = \"tanh\")(conv)\n",
        "  lstm = Dropout(0.5)(lstm)\n",
        "  output = Dense(1,activation = 'sigmoid',name= 'output')(lstm)\n",
        "  model =Model(input = [input_layer],output = [output])\n",
        "  adam = Adam(lr = 1e-4, beta_1 = 0.9, beta_2 = 0.999,epsilon = 1e-08,decay = 0.0)\n",
        "  model.compile(optimizer = adam, loss = 'binary_crossentropy', metrics = ['accuracy'])\n",
        "  return model"
      ],
      "execution_count": null,
      "outputs": []
    },
    {
      "cell_type": "code",
      "metadata": {
        "id": "5x9bFuUK_OhL",
        "colab_type": "code",
        "colab": {
          "base_uri": "https://localhost:8080/",
          "height": 974
        },
        "outputId": "b590d473-fb65-4d19-8516-e39a5bdc85e1"
      },
      "source": [
        "epochs = 20\n",
        "batch_size = 1000\n",
        "model2 = conv_lstm()\n",
        "history = model2.fit(X_train, target_train,validation_split=0.33,epochs = epochs,batch_size = batch_size)\n",
        "loass, acc2 = model2.evaluate(X_test,target_test,verbose = 1)\n",
        "print('\\nFinal Cross-Validation Accuracy', acc2, '\\n')"
      ],
      "execution_count": null,
      "outputs": [
        {
          "output_type": "stream",
          "text": [
            "/usr/local/lib/python3.6/dist-packages/ipykernel_launcher.py:5: UserWarning: Update your `Conv1D` call to the Keras 2 API: `Conv1D(kernel_size=5, filters=256, padding=\"same\")`\n",
            "  \"\"\"\n",
            "/usr/local/lib/python3.6/dist-packages/ipykernel_launcher.py:12: UserWarning: Update your `Model` call to the Keras 2 API: `Model(inputs=[<tf.Tenso..., outputs=[<tf.Tenso...)`\n",
            "  if sys.path[0] == '':\n",
            "/usr/local/lib/python3.6/dist-packages/tensorflow/python/framework/indexed_slices.py:434: UserWarning: Converting sparse IndexedSlices to a dense Tensor of unknown shape. This may consume a large amount of memory.\n",
            "  \"Converting sparse IndexedSlices to a dense Tensor of unknown shape. \"\n"
          ],
          "name": "stderr"
        },
        {
          "output_type": "stream",
          "text": [
            "Train on 97884 samples, validate on 48213 samples\n",
            "Epoch 1/20\n",
            "97884/97884 [==============================] - 66s 671us/step - loss: 0.5901 - accuracy: 0.6966 - val_loss: 0.4667 - val_accuracy: 0.7767\n",
            "Epoch 2/20\n",
            "97884/97884 [==============================] - 58s 595us/step - loss: 0.4288 - accuracy: 0.8017 - val_loss: 0.3716 - val_accuracy: 0.8382\n",
            "Epoch 3/20\n",
            "97884/97884 [==============================] - 58s 592us/step - loss: 0.3536 - accuracy: 0.8496 - val_loss: 0.3079 - val_accuracy: 0.8736\n",
            "Epoch 4/20\n",
            "97884/97884 [==============================] - 58s 594us/step - loss: 0.3104 - accuracy: 0.8723 - val_loss: 0.2733 - val_accuracy: 0.8910\n",
            "Epoch 5/20\n",
            "97884/97884 [==============================] - 58s 595us/step - loss: 0.2866 - accuracy: 0.8828 - val_loss: 0.2547 - val_accuracy: 0.8992\n",
            "Epoch 6/20\n",
            "97884/97884 [==============================] - 58s 595us/step - loss: 0.2694 - accuracy: 0.8901 - val_loss: 0.2415 - val_accuracy: 0.9037\n",
            "Epoch 7/20\n",
            "97884/97884 [==============================] - 58s 595us/step - loss: 0.2564 - accuracy: 0.8963 - val_loss: 0.2295 - val_accuracy: 0.9094\n",
            "Epoch 8/20\n",
            "97884/97884 [==============================] - 58s 595us/step - loss: 0.2456 - accuracy: 0.9011 - val_loss: 0.2200 - val_accuracy: 0.9136\n",
            "Epoch 9/20\n",
            "97884/97884 [==============================] - 58s 593us/step - loss: 0.2357 - accuracy: 0.9061 - val_loss: 0.2109 - val_accuracy: 0.9169\n",
            "Epoch 10/20\n",
            "97884/97884 [==============================] - 58s 595us/step - loss: 0.2261 - accuracy: 0.9096 - val_loss: 0.2042 - val_accuracy: 0.9199\n",
            "Epoch 11/20\n",
            "97884/97884 [==============================] - 58s 595us/step - loss: 0.2178 - accuracy: 0.9132 - val_loss: 0.1979 - val_accuracy: 0.9234\n",
            "Epoch 12/20\n",
            "97884/97884 [==============================] - 58s 594us/step - loss: 0.2114 - accuracy: 0.9164 - val_loss: 0.1917 - val_accuracy: 0.9258\n",
            "Epoch 13/20\n",
            "97884/97884 [==============================] - 58s 592us/step - loss: 0.2056 - accuracy: 0.9189 - val_loss: 0.1860 - val_accuracy: 0.9276\n",
            "Epoch 14/20\n",
            "97884/97884 [==============================] - 58s 596us/step - loss: 0.1982 - accuracy: 0.9209 - val_loss: 0.1831 - val_accuracy: 0.9290\n",
            "Epoch 15/20\n",
            "97884/97884 [==============================] - 58s 595us/step - loss: 0.1942 - accuracy: 0.9238 - val_loss: 0.1828 - val_accuracy: 0.9293\n",
            "Epoch 16/20\n",
            "97884/97884 [==============================] - 58s 597us/step - loss: 0.1903 - accuracy: 0.9251 - val_loss: 0.1746 - val_accuracy: 0.9318\n",
            "Epoch 17/20\n",
            "97884/97884 [==============================] - 59s 600us/step - loss: 0.1844 - accuracy: 0.9274 - val_loss: 0.1707 - val_accuracy: 0.9334\n",
            "Epoch 18/20\n",
            "97884/97884 [==============================] - 59s 600us/step - loss: 0.1811 - accuracy: 0.9295 - val_loss: 0.1689 - val_accuracy: 0.9344\n",
            "Epoch 19/20\n",
            "97884/97884 [==============================] - 59s 599us/step - loss: 0.1783 - accuracy: 0.9301 - val_loss: 0.1663 - val_accuracy: 0.9356\n",
            "Epoch 20/20\n",
            "97884/97884 [==============================] - 59s 600us/step - loss: 0.1734 - accuracy: 0.9320 - val_loss: 0.1633 - val_accuracy: 0.9364\n",
            "48700/48700 [==============================] - 23s 474us/step\n",
            "\n",
            "Final Cross-Validation Accuracy 0.9391170144081116 \n",
            "\n"
          ],
          "name": "stdout"
        }
      ]
    },
    {
      "cell_type": "code",
      "metadata": {
        "id": "W6FkQSdLTGkB",
        "colab_type": "code",
        "colab": {
          "base_uri": "https://localhost:8080/",
          "height": 295
        },
        "outputId": "2eed28dd-c4f9-48b2-a361-754186d441bb"
      },
      "source": [
        "plt.plot(history.history['accuracy'])\n",
        "plt.plot(history.history['val_accuracy'])\n",
        "plt.title('cnn-lstm model accuracy')\n",
        "plt.xlabel('epoch')\n",
        "plt.ylabel('accuracy')\n",
        "plt.legend(['train', 'test'], loc='upper left')\n",
        "plt.show()"
      ],
      "execution_count": null,
      "outputs": [
        {
          "output_type": "display_data",
          "data": {
            "image/png": "[encoded data removed]",
            "text/plain": [
              "<Figure size 432x288 with 1 Axes>"
            ]
          },
          "metadata": {
            "tags": [],
            "needs_background": "light"
          }
        }
      ]
    },
    {
      "cell_type": "code",
      "metadata": {
        "id": "Pkj4iKt-TL3_",
        "colab_type": "code",
        "colab": {
          "base_uri": "https://localhost:8080/",
          "height": 295
        },
        "outputId": "3f6e83da-5f41-4f00-e2ac-7c36ead78649"
      },
      "source": [
        "plt.plot(history.history['loss'])\n",
        "plt.plot(history.history['val_loss'])\n",
        "plt.title('cnn-lstm model loss')\n",
        "plt.ylabel('loss')\n",
        "plt.xlabel('epoch')\n",
        "plt.legend(['train', 'test'], loc='upper left')\n",
        "plt.show()"
      ],
      "execution_count": null,
      "outputs": [
        {
          "output_type": "display_data",
          "data": {
            "image/png": "[encoded data removed]",
            "text/plain": [
              "<Figure size 432x288 with 1 Axes>"
            ]
          },
          "metadata": {
            "tags": [],
            "needs_background": "light"
          }
        }
      ]
    },
    {
      "cell_type": "code",
      "metadata": {
        "id": "Agi5JdfnbANy",
        "colab_type": "code",
        "colab": {
          "base_uri": "https://localhost:8080/",
          "height": 586
        },
        "outputId": "e4ea4157-1959-4794-bf59-d9455412c804"
      },
      "source": [
        "model2.summary()\n",
        "print('\\nFinal Accuracy', acc2, '\\n')"
      ],
      "execution_count": null,
      "outputs": [
        {
          "output_type": "stream",
          "text": [
            "Model: \"model_2\"\n",
            "_________________________________________________________________\n",
            "Layer (type)                 Output Shape              Param #   \n",
            "=================================================================\n",
            "input (InputLayer)           (None, 200)               0         \n",
            "_________________________________________________________________\n",
            "embedding_2 (Embedding)      (None, 200, 512)          51200     \n",
            "_________________________________________________________________\n",
            "dropout_2 (Dropout)          (None, 200, 512)          0         \n",
            "_________________________________________________________________\n",
            "conv1d_1 (Conv1D)            (None, 200, 256)          655616    \n",
            "_________________________________________________________________\n",
            "elu_1 (ELU)                  (None, 200, 256)          0         \n",
            "_________________________________________________________________\n",
            "max_pooling1d_1 (MaxPooling1 (None, 50, 256)           0         \n",
            "_________________________________________________________________\n",
            "dropout_3 (Dropout)          (None, 50, 256)           0         \n",
            "_________________________________________________________________\n",
            "lstm_2 (LSTM)                (None, 64)                82176     \n",
            "_________________________________________________________________\n",
            "dropout_4 (Dropout)          (None, 64)                0         \n",
            "_________________________________________________________________\n",
            "output (Dense)               (None, 1)                 65        \n",
            "=================================================================\n",
            "Total params: 789,057\n",
            "Trainable params: 789,057\n",
            "Non-trainable params: 0\n",
            "_________________________________________________________________\n",
            "\n",
            "Final Accuracy 0.9391170144081116 \n",
            "\n"
          ],
          "name": "stdout"
        }
      ]
    },
    {
      "cell_type": "code",
      "metadata": {
        "id": "V7zBeau4ARrQ",
        "colab_type": "code",
        "colab": {}
      },
      "source": [
        "def conv_model():\n",
        "    # Input\n",
        "    input_layer = Input(shape=(max_len,), dtype='int32', name='main_input')\n",
        "    emb = Embedding(input_dim=100, output_dim=512, input_length=max_len,\n",
        "                W_regularizer=regularizers.l2(1e-4))(input_layer) \n",
        "    emb = Dropout(0.25)(emb)\n",
        "    def sum_1d(X):\n",
        "        return K.sum(X, axis=1)\n",
        "    conv = Conv1D(kernel_size = 4, filters = 256)(emb)\n",
        "    conv = Lambda(sum_1d, output_shape=(256,))(conv)\n",
        "    conv = Dropout(0.5)(conv)\n",
        "    \n",
        "    hidden = Dense(1024)(conv)\n",
        "    hidden = ELU()(hidden)\n",
        "    hidden = BatchNormalization(mode=0)(hidden)\n",
        "    hidden = Dropout(0.5)(hidden)\n",
        "    output = Dense(1, activation='sigmoid', name='output')(hidden)\n",
        "    \n",
        "    model_conv = Model(input=[input_layer], output=[output])\n",
        "    adam = Adam(lr=1e-4, beta_1=0.9, beta_2=0.999, epsilon=1e-08, decay=0.0)\n",
        "    model_conv.compile(optimizer=adam, loss='binary_crossentropy', metrics=['accuracy'])\n",
        "    return model_conv\n",
        "\n",
        "    \n",
        "    \n",
        "    \n",
        "    \n",
        "\n",
        "    \n"
      ],
      "execution_count": null,
      "outputs": []
    },
    {
      "cell_type": "code",
      "metadata": {
        "id": "iJB-x4xWclxc",
        "colab_type": "code",
        "colab": {
          "base_uri": "https://localhost:8080/",
          "height": 1000
        },
        "outputId": "4074f3e0-2edc-47c1-d11d-c4037ab140d8"
      },
      "source": [
        "epochs = 10\n",
        "batch_size = 1000\n",
        "\n",
        "model3 = conv_model()\n",
        "history = model3.fit(X_train, target_train,validation_split=0.33, epochs=epochs, batch_size=batch_size)\n",
        "loss, acc3 = model3.evaluate(X_test, target_test, verbose=1)\n",
        "print(history.history.keys())\n",
        "\n",
        "model3.summary()\n",
        "print('\\nFinal Cross-Validation Accuracy', acc3, '\\n')\n"
      ],
      "execution_count": null,
      "outputs": [
        {
          "output_type": "stream",
          "text": [
            "/usr/local/lib/python3.6/dist-packages/ipykernel_launcher.py:5: UserWarning: Update your `Embedding` call to the Keras 2 API: `Embedding(input_dim=100, output_dim=512, input_length=200, embeddings_regularizer=<keras.reg...)`\n",
            "  \"\"\"\n",
            "/usr/local/lib/python3.6/dist-packages/ipykernel_launcher.py:15: UserWarning: Update your `BatchNormalization` call to the Keras 2 API: `BatchNormalization()`\n",
            "  from ipykernel import kernelapp as app\n",
            "/usr/local/lib/python3.6/dist-packages/ipykernel_launcher.py:19: UserWarning: Update your `Model` call to the Keras 2 API: `Model(inputs=[<tf.Tenso..., outputs=[<tf.Tenso...)`\n",
            "/usr/local/lib/python3.6/dist-packages/tensorflow/python/framework/indexed_slices.py:434: UserWarning: Converting sparse IndexedSlices to a dense Tensor of unknown shape. This may consume a large amount of memory.\n",
            "  \"Converting sparse IndexedSlices to a dense Tensor of unknown shape. \"\n"
          ],
          "name": "stderr"
        },
        {
          "output_type": "stream",
          "text": [
            "Train on 97884 samples, validate on 48213 samples\n",
            "Epoch 1/10\n",
            "97884/97884 [==============================] - 42s 425us/step - loss: 0.8743 - accuracy: 0.5483 - val_loss: 0.6365 - val_accuracy: 0.5917\n",
            "Epoch 2/10\n",
            "97884/97884 [==============================] - 39s 395us/step - loss: 0.7052 - accuracy: 0.6515 - val_loss: 0.5396 - val_accuracy: 0.7110\n",
            "Epoch 3/10\n",
            "97884/97884 [==============================] - 39s 395us/step - loss: 0.6486 - accuracy: 0.6795 - val_loss: 0.6422 - val_accuracy: 0.6535\n",
            "Epoch 4/10\n",
            "97884/97884 [==============================] - 39s 395us/step - loss: 0.6163 - accuracy: 0.6935 - val_loss: 0.5422 - val_accuracy: 0.7089\n",
            "Epoch 5/10\n",
            "97884/97884 [==============================] - 39s 395us/step - loss: 0.5889 - accuracy: 0.7081 - val_loss: 0.5132 - val_accuracy: 0.7356\n",
            "Epoch 6/10\n",
            "97884/97884 [==============================] - 39s 395us/step - loss: 0.5689 - accuracy: 0.7155 - val_loss: 0.5009 - val_accuracy: 0.7489\n",
            "Epoch 7/10\n",
            "97884/97884 [==============================] - 39s 395us/step - loss: 0.5495 - accuracy: 0.7265 - val_loss: 0.5193 - val_accuracy: 0.7275\n",
            "Epoch 8/10\n",
            "97884/97884 [==============================] - 39s 395us/step - loss: 0.5338 - accuracy: 0.7348 - val_loss: 0.4929 - val_accuracy: 0.7585\n",
            "Epoch 9/10\n",
            "97884/97884 [==============================] - 39s 395us/step - loss: 0.5250 - accuracy: 0.7397 - val_loss: 0.5829 - val_accuracy: 0.6880\n",
            "Epoch 10/10\n",
            "97884/97884 [==============================] - 39s 397us/step - loss: 0.5164 - accuracy: 0.7461 - val_loss: 0.4782 - val_accuracy: 0.7697\n",
            "48700/48700 [==============================] - 10s 213us/step\n",
            "dict_keys(['val_loss', 'val_accuracy', 'loss', 'accuracy'])\n",
            "Model: \"model_3\"\n",
            "_________________________________________________________________\n",
            "Layer (type)                 Output Shape              Param #   \n",
            "=================================================================\n",
            "main_input (InputLayer)      (None, 200)               0         \n",
            "_________________________________________________________________\n",
            "embedding_3 (Embedding)      (None, 200, 512)          51200     \n",
            "_________________________________________________________________\n",
            "dropout_5 (Dropout)          (None, 200, 512)          0         \n",
            "_________________________________________________________________\n",
            "conv1d_2 (Conv1D)            (None, 197, 256)          524544    \n",
            "_________________________________________________________________\n",
            "lambda_1 (Lambda)            (None, 256)               0         \n",
            "_________________________________________________________________\n",
            "dropout_6 (Dropout)          (None, 256)               0         \n",
            "_________________________________________________________________\n",
            "dense_1 (Dense)              (None, 1024)              263168    \n",
            "_________________________________________________________________\n",
            "elu_2 (ELU)                  (None, 1024)              0         \n",
            "_________________________________________________________________\n",
            "batch_normalization_1 (Batch (None, 1024)              4096      \n",
            "_________________________________________________________________\n",
            "dropout_7 (Dropout)          (None, 1024)              0         \n",
            "_________________________________________________________________\n",
            "output (Dense)               (None, 1)                 1025      \n",
            "=================================================================\n",
            "Total params: 844,033\n",
            "Trainable params: 841,985\n",
            "Non-trainable params: 2,048\n",
            "_________________________________________________________________\n",
            "\n",
            "Final Cross-Validation Accuracy 0.7692813277244568 \n",
            "\n"
          ],
          "name": "stdout"
        }
      ]
    },
    {
      "cell_type": "code",
      "metadata": {
        "id": "BAfYQc0KjQvq",
        "colab_type": "code",
        "colab": {
          "base_uri": "https://localhost:8080/",
          "height": 295
        },
        "outputId": "8d479060-e9e3-4a0a-b974-444ced3d576d"
      },
      "source": [
        "plt.plot(history.history['accuracy'])\n",
        "plt.plot(history.history['val_accuracy'])\n",
        "plt.title('cnn model accuracy')\n",
        "plt.xlabel('epoch')\n",
        "plt.ylabel('accuracy')\n",
        "plt.legend(['train', 'test'], loc='upper left')\n",
        "plt.show()"
      ],
      "execution_count": null,
      "outputs": [
        {
          "output_type": "display_data",
          "data": {
            "image/png": "[encoded data removed]",
            "text/plain": [
              "<Figure size 432x288 with 1 Axes>"
            ]
          },
          "metadata": {
            "tags": [],
            "needs_background": "light"
          }
        }
      ]
    },
    {
      "cell_type": "code",
      "metadata": {
        "id": "honDJTGCUBP2",
        "colab_type": "code",
        "colab": {
          "base_uri": "https://localhost:8080/",
          "height": 295
        },
        "outputId": "bb817fa1-576b-4ca7-8ac9-8d553aa15d22"
      },
      "source": [
        "plt.plot(history.history['loss'])\n",
        "plt.plot(history.history['val_loss'])\n",
        "plt.title('cnn model loss')\n",
        "plt.ylabel('loss')\n",
        "plt.xlabel('epoch')\n",
        "plt.legend(['train', 'test'], loc='upper left')\n",
        "plt.show()"
      ],
      "execution_count": null,
      "outputs": [
        {
          "output_type": "display_data",
          "data": {
            "image/png": "[encoded data removed]",
            "text/plain": [
              "<Figure size 432x288 with 1 Axes>"
            ]
          },
          "metadata": {
            "tags": [],
            "needs_background": "light"
          }
        }
      ]
    },
    {
      "cell_type": "code",
      "metadata": {
        "id": "ZeF_WD-xRMYg",
        "colab_type": "code",
        "colab": {
          "base_uri": "https://localhost:8080/",
          "height": 295
        },
        "outputId": "e409d73e-2443-42cf-d0ee-54dd1f5db512"
      },
      "source": [
        "names = [\"LSTM\",\"CNN-LSTM\",\"CNN\"]\n",
        "results = [round(acc1*100),round(acc2*100),round(acc3*100)]\n",
        "plt.title(\"Accuracy of three models on the dataset\")\n",
        "plt.xlabel(\"Accuracy\")\n",
        "plt.xlim(0,100)\n",
        "plt.barh(names,results)\n",
        "for index, value in enumerate(results):\n",
        "\n",
        "    plt.text(value, index, str(value))\n",
        "\n",
        "\n",
        "\n",
        "\n"
      ],
      "execution_count": null,
      "outputs": [
        {
          "output_type": "display_data",
          "data": {
            "image/png": "[encoded data removed]",
            "text/plain": [
              "<Figure size 432x288 with 1 Axes>"
            ]
          },
          "metadata": {
            "tags": [],
            "needs_background": "light"
          }
        }
      ]
    },
    {
      "cell_type": "code",
      "metadata": {
        "id": "2fVpwJv0cn5I",
        "colab_type": "code",
        "colab": {
          "base_uri": "https://localhost:8080/",
          "height": 35
        },
        "outputId": "1fdbeefe-7886-46e6-8841-22b3a9fb93cc"
      },
      "source": [
        "mal = \"https://apzsum.000webhostapp.com/login.htm\"\n",
        "benign = \"https://www.phishing.org/phishing-examples\"\n",
        "\n",
        "url = mal\n",
        "url_int_tokens = [[printable.index(x) + 1 for x in url if x in printable]]\n",
        "max_len=200\n",
        "X = sequence.pad_sequences(url_int_tokens, maxlen=max_len)\n",
        "\n",
        "\n",
        "result = model2.predict(X, batch_size=1)\n",
        "def print_result(proba):\n",
        "    if proba > 0.5:\n",
        "        return \"malicious\"\n",
        "    else:\n",
        "        return \"benign\"\n",
        "print(\"Test URL:\", url, \"is\", print_result(result[0]))\n",
        "\n"
      ],
      "execution_count": null,
      "outputs": [
        {
          "output_type": "stream",
          "text": [
            "Test URL: https://apzsum.000webhostapp.com/login.htm is malicious\n"
          ],
          "name": "stdout"
        }
      ]
    },
    {
      "cell_type": "code",
      "metadata": {
        "id": "mKuCqFWMjDSg",
        "colab_type": "code",
        "colab": {}
      },
      "source": [
        ""
      ],
      "execution_count": null,
      "outputs": []
    },
    {
      "cell_type": "code",
      "metadata": {
        "id": "jqOhEOrfiBAA",
        "colab_type": "code",
        "colab": {}
      },
      "source": [
        ""
      ],
      "execution_count": null,
      "outputs": []
    }
  ]
}